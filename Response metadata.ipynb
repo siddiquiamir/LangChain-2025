{
 "cells": [
  {
   "cell_type": "code",
   "execution_count": 1,
   "id": "0a2af355-ffee-407b-9fef-c25b75d81d80",
   "metadata": {},
   "outputs": [],
   "source": [
    "# Many model providers include some metadata in their chat generation responses."
   ]
  },
  {
   "cell_type": "code",
   "execution_count": 3,
   "id": "6ac227f1-f869-42b7-adf8-d9a772e5177e",
   "metadata": {},
   "outputs": [],
   "source": [
    "import os\n",
    "import getpass\n",
    "from langchain_groq import ChatGroq\n"
   ]
  },
  {
   "cell_type": "code",
   "execution_count": 4,
   "id": "91cf8761-56f8-45a7-93ba-4b984be1ef8d",
   "metadata": {},
   "outputs": [
    {
     "name": "stdin",
     "output_type": "stream",
     "text": [
      " ········\n"
     ]
    }
   ],
   "source": [
    "GROQ_API_KEY = getpass.getpass()"
   ]
  },
  {
   "cell_type": "code",
   "execution_count": 5,
   "id": "b7f31eb1-014c-4dff-ad64-0087115eb0fa",
   "metadata": {},
   "outputs": [
    {
     "data": {
      "text/plain": [
       "ChatGroq(client=<groq.resources.chat.completions.Completions object at 0x00000235A8067FD0>, async_client=<groq.resources.chat.completions.AsyncCompletions object at 0x00000235A806D850>, model_name='llama-3.1-8b-instant', model_kwargs={}, groq_api_key=SecretStr('**********'))"
      ]
     },
     "execution_count": 5,
     "metadata": {},
     "output_type": "execute_result"
    }
   ],
   "source": [
    "llm = ChatGroq(model=\"llama-3.1-8b-instant\", api_key=GROQ_API_KEY)\n",
    "llm"
   ]
  },
  {
   "cell_type": "code",
   "execution_count": 6,
   "id": "beb7e6d0-65bd-4f41-b5b4-d28e4c835ee9",
   "metadata": {},
   "outputs": [],
   "source": [
    "msg = llm.invoke(\"What's the oldest known example of cuneiform\")"
   ]
  },
  {
   "cell_type": "code",
   "execution_count": 7,
   "id": "cd07239e-c990-422d-8b0f-2c5fe83ec865",
   "metadata": {},
   "outputs": [
    {
     "data": {
      "text/plain": [
       "{'token_usage': {'completion_tokens': 142,\n",
       "  'prompt_tokens': 45,\n",
       "  'total_tokens': 187,\n",
       "  'completion_time': 0.189333333,\n",
       "  'prompt_time': 0.004567926,\n",
       "  'queue_time': 0.254768225,\n",
       "  'total_time': 0.193901259},\n",
       " 'model_name': 'llama-3.1-8b-instant',\n",
       " 'system_fingerprint': 'fp_f7bd09b454',\n",
       " 'finish_reason': 'stop',\n",
       " 'logprobs': None}"
      ]
     },
     "execution_count": 7,
     "metadata": {},
     "output_type": "execute_result"
    }
   ],
   "source": [
    "msg.response_metadata"
   ]
  },
  {
   "cell_type": "code",
   "execution_count": null,
   "id": "02833c70-3b0b-4b5b-9fa7-2677ea3db154",
   "metadata": {},
   "outputs": [],
   "source": []
  }
 ],
 "metadata": {
  "kernelspec": {
   "display_name": "Python 3 (ipykernel)",
   "language": "python",
   "name": "python3"
  },
  "language_info": {
   "codemirror_mode": {
    "name": "ipython",
    "version": 3
   },
   "file_extension": ".py",
   "mimetype": "text/x-python",
   "name": "python",
   "nbconvert_exporter": "python",
   "pygments_lexer": "ipython3",
   "version": "3.11.5"
  }
 },
 "nbformat": 4,
 "nbformat_minor": 5
}
