{
 "cells": [
  {
   "cell_type": "markdown",
   "id": "e0a3f873-2caa-4681-ab76-8667b2bff61b",
   "metadata": {},
   "source": [
    "# How to stream runnables"
   ]
  },
  {
   "cell_type": "code",
   "execution_count": 4,
   "id": "4386a355-dabf-4876-a428-e6976fcbb856",
   "metadata": {},
   "outputs": [],
   "source": [
    "import os\n",
    "import getpass\n",
    "from langchain.chat_models import init_chat_model"
   ]
  },
  {
   "cell_type": "code",
   "execution_count": 2,
   "id": "ad3e800b-e0e6-4726-a359-53a17bf107b8",
   "metadata": {},
   "outputs": [
    {
     "name": "stdin",
     "output_type": "stream",
     "text": [
      "Enter API key for Groq:  ········\n"
     ]
    }
   ],
   "source": [
    "if not os.environ.get(\"GROQ_API_KEY\"):\n",
    "  os.environ[\"GROQ_API_KEY\"] = getpass.getpass(\"Enter API key for Groq: \")"
   ]
  },
  {
   "cell_type": "code",
   "execution_count": 5,
   "id": "efee4720-8f29-4c1e-bbfb-b294acb48926",
   "metadata": {},
   "outputs": [],
   "source": [
    "model = init_chat_model(\"llama3-8b-8192\", model_provider=\"groq\")"
   ]
  },
  {
   "cell_type": "code",
   "execution_count": 20,
   "id": "d6cd4188-c302-4034-a652-b2f4fa4636a7",
   "metadata": {},
   "outputs": [
    {
     "name": "stdout",
     "output_type": "stream",
     "text": [
      "The Roman Empire was a vast and powerful state that existed from 27 BC to 476 AD. It was founded by Augustus Caesar, who became the first emperor of Rome after the death of his great-uncle and adoptive father, Julius Caesar. Here's a brief summary of the history of the Roman Empire and its major accomplishments:\n",
      "\n",
      "**Early Empire (27 BC - 117 AD)**\n",
      "\n",
      "* Augustus Caesar established the Principate, a system of government in which the emperor held supreme power but was also responsible for the welfare of the people.\n",
      "* The Roman Empire expanded its territories through military conquests, reaching its greatest extent under Emperor Trajan (98-117 AD).\n",
      "* The Roman Empire developed a system of laws, known as the Corpus Juris Civilis, which was codified by Emperor Justinian in the 6th century AD.\n",
      "\n",
      "**Golden Age (117-180 AD)**\n",
      "\n",
      "* The 2nd century AD is often referred to as the \"Golden Age\" of the Roman Empire, during which time the empire experienced a period of peace and prosperity.\n",
      "* The Roman Empire saw significant cultural and artistic achievements, including the development of architecture, literature, and philosophy.\n",
      "* The Roman Empire also made significant advancements in engineering, including the construction of roads, bridges, and aqueducts.\n",
      "\n",
      "**Crisis and Decline (180-476 AD)**\n",
      "\n",
      "* The Roman Empire began to decline in the 3rd century AD, due to internal conflicts, corruption, and external pressures from barbarian tribes.\n",
      "* The empire was repeatedly divided and reunified, with various emperors trying to restore its former glory.\n",
      "* The Western Roman Empire was eventually overrun by barbarian tribes and fell to the Visigoths in 476 AD, marking the end of the Western Roman Empire.\n",
      "\n",
      "**Major Accomplishments**\n",
      "\n",
      "* The Roman Empire built an extensive network of roads, bridges, and aqueducts that allowed for efficient communication and trade.\n",
      "* The Roman Empire developed a system of laws and governance that lasted for centuries and influenced the development of modern Western society.\n",
      "* The Roman Empire made significant advances in engineering, including the construction of arches, domes, and aqueducts.\n",
      "* The Roman Empire developed a system of public entertainment, including gladiatorial combat, theater, and circuses.\n",
      "* The Roman Empire spread Latin throughout its territories, which became the foundation for many modern languages, including French, Spanish, Italian, and Portuguese.\n",
      "* The Roman Empire had a significant impact on the development of Christianity, with the Roman Empire providing a framework for the spread of Christianity throughout Europe.\n",
      "\n",
      "Some of the most notable Roman emperors include:\n",
      "\n",
      "* Augustus Caesar (27 BC - 14 AD)\n",
      "* Trajan (98-117 AD)\n",
      "* Hadrian (117-138 AD)\n",
      "* Antoninus Pius (138-161 AD)\n",
      "* Marcus Aurelius (161-180 AD)\n",
      "* Constantine the Great (306-337 AD)\n",
      "\n",
      "Overall, the Roman Empire was a vast and powerful state that had a profound impact on the development of Western civilization. Its legacy can still be seen in many aspects of modern society, from language and law to architecture and engineering."
     ]
    }
   ],
   "source": [
    "chunks = []\n",
    "for chunk in model.stream(\"Summarize the history of the Roman Empire and its major accomplishments?\"):\n",
    "    chunks.append(chunk)\n",
    "    print(chunk.content, end=\"\", flush=True)"
   ]
  },
  {
   "cell_type": "code",
   "execution_count": 28,
   "id": "3c1e9338-cbc6-405e-9cd8-24ae318f940c",
   "metadata": {},
   "outputs": [
    {
     "data": {
      "text/plain": [
       "{'finish_reason': 'stop',\n",
       " 'model_name': 'llama3-8b-8192',\n",
       " 'system_fingerprint': 'fp_dadc9d6142'}"
      ]
     },
     "execution_count": 28,
     "metadata": {},
     "output_type": "execute_result"
    }
   ],
   "source": [
    "chunk.response_metadata"
   ]
  },
  {
   "cell_type": "markdown",
   "id": "a35d9dad-98c9-42d1-866b-91f1f750ee4b",
   "metadata": {},
   "source": [
    "# Async"
   ]
  },
  {
   "cell_type": "code",
   "execution_count": 25,
   "id": "aeced0f3-8677-4000-a35e-bffddf597959",
   "metadata": {},
   "outputs": [
    {
     "name": "stdout",
     "output_type": "stream",
     "text": [
      "The Roman Empire was a vast and powerful state that existed from 27 BC to 476 AD. It was founded by Augustus Caesar, who became the first emperor of Rome after the death of his great-uncle and adoptive father, Julius Caesar. Here is a summary of the history of the Roman Empire and its major accomplishments:\n",
      "\n",
      "**Early Empire (27 BC - 117 AD)**\n",
      "\n",
      "* Augustus Caesar established the Principate, a system of government where the emperor held supreme power but was also accountable to the Senate and the people.\n",
      "* The Roman Empire expanded its territories through military conquests, absorbing much of Europe, North Africa, and parts of Asia.\n",
      "* The Pax Romana (Roman Peace) period, which lasted from 27 BC to 180 AD, was a time of relative stability and prosperity, marked by significant economic growth, cultural achievements, and technological advancements.\n",
      "* The Roman Empire built a vast network of roads, aqueducts, and public buildings, including the Colosseum, the Pantheon, and the Roman Forum.\n",
      "\n",
      "**High Empire (117 - 284 AD)**\n",
      "\n",
      "* The Roman Empire reached its peak during the reign of the Five Good Emperors (117 - 180 AD), who were known for their wisdom, justice, and military victories.\n",
      "* The Roman Empire continued to expand its territories through conquests, including the annexation of Dacia (modern-day Romania) and the conquest of the Persian Empire.\n",
      "* The Roman Empire also developed a complex system of administration, law, and governance, which was characterized by a strong central government and a network of provincial governors.\n",
      "* The Roman Empire was a major cultural and intellectual center, with significant contributions to literature, art, architecture, and science.\n",
      "\n",
      "**Crisis and Decline (284 - 476 AD)**\n",
      "\n",
      "* The Roman Empire began to decline in the 3rd century AD, due to internal conflicts, external pressures, and economic problems.\n",
      "* The empire was repeatedly divided and reunified, with various emperors attempting to restore its former glory.\n",
      "* The Roman Empire was eventually overrun by various barbarian tribes, including the Visigoths, the Vandals, and the Ostrogoths.\n",
      "* The Western Roman Empire was officially dissolved in 476 AD, when the barbarian king Odoacer deposed the last Roman Emperor, Romulus Augustus.\n",
      "\n",
      "**Major Accomplishments**\n",
      "\n",
      "* The Roman Empire established a vast network of roads, which connected Europe, North Africa, and Asia.\n",
      "* The Roman Empire built numerous aqueducts, which supplied water to its cities and towns.\n",
      "* The Roman Empire developed a complex system of law, including the Twelve Tables, which became the foundation of Western law.\n",
      "* The Roman Empire made significant contributions to architecture, including the development of the arch, the dome, and the column.\n",
      "* The Roman Empire was a major cultural and intellectual center, with significant contributions to literature, art, and science.\n",
      "* The Roman Empire established a vast system of public buildings, including temples, theaters, and baths.\n",
      "* The Roman Empire developed a complex system of governance, which included a strong central government and a network of provincial governors.\n",
      "\n",
      "In summary, the Roman Empire was a vast and powerful state that existed from 27 BC to 476 AD. It was founded by Augustus Caesar and was characterized by significant military conquests, economic growth, cultural achievements, and technological advancements. The Roman Empire established a complex system of government, law, and governance, and made significant contributions to architecture, literature, art, and science. Despite its decline and eventual fall, the Roman Empire left a lasting legacy that continues to influence Western civilization to this day."
     ]
    }
   ],
   "source": [
    "chunks = []\n",
    "async for chunk in model.astream(\"Summarize the history of the Roman Empire and its major accomplishments?\"):\n",
    "    chunks.append(chunk)\n",
    "    print(chunk.content, end=\"\", flush=True)"
   ]
  },
  {
   "cell_type": "code",
   "execution_count": null,
   "id": "7ae2aacf-3108-4d98-9426-457b4d5b8646",
   "metadata": {},
   "outputs": [],
   "source": []
  }
 ],
 "metadata": {
  "kernelspec": {
   "display_name": "Python 3 (ipykernel)",
   "language": "python",
   "name": "python3"
  },
  "language_info": {
   "codemirror_mode": {
    "name": "ipython",
    "version": 3
   },
   "file_extension": ".py",
   "mimetype": "text/x-python",
   "name": "python",
   "nbconvert_exporter": "python",
   "pygments_lexer": "ipython3",
   "version": "3.11.5"
  }
 },
 "nbformat": 4,
 "nbformat_minor": 5
}
