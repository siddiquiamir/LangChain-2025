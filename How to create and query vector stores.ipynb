{
 "cells": [
  {
   "cell_type": "markdown",
   "id": "37ae2ce6-70cc-443b-ab88-0cc63f699e83",
   "metadata": {},
   "source": [
    "# How to create and query vector stores"
   ]
  },
  {
   "cell_type": "code",
   "execution_count": 1,
   "id": "57553105-1146-4b29-8dbc-7fb887621f77",
   "metadata": {},
   "outputs": [],
   "source": [
    "import os\n",
    "import getpass"
   ]
  },
  {
   "cell_type": "code",
   "execution_count": 2,
   "id": "dba84cd8-9074-4c10-b1c3-516d4da679db",
   "metadata": {},
   "outputs": [
    {
     "name": "stdin",
     "output_type": "stream",
     "text": [
      "GROQ API Key: ········\n"
     ]
    }
   ],
   "source": [
    "os.environ['GROQ_API_KEY'] = getpass.getpass('GROQ API Key:')"
   ]
  },
  {
   "cell_type": "code",
   "execution_count": 3,
   "id": "3b7fe604-386b-4079-aa05-469a30dfb119",
   "metadata": {},
   "outputs": [],
   "source": [
    "from langchain_community.document_loaders import TextLoader\n",
    "from langchain_text_splitters import CharacterTextSplitter"
   ]
  },
  {
   "cell_type": "code",
   "execution_count": 4,
   "id": "ce0021df-73b5-405e-99cb-973306ad1a23",
   "metadata": {},
   "outputs": [],
   "source": [
    "from langchain_huggingface import HuggingFaceEmbeddings\n",
    "embedding_model = HuggingFaceEmbeddings(model_name=\"sentence-transformers/all-MiniLM-L6-v2\")"
   ]
  },
  {
   "cell_type": "code",
   "execution_count": 5,
   "id": "f1f5273f-1569-4698-bb94-5c948c9fd2d9",
   "metadata": {},
   "outputs": [],
   "source": [
    "# Load the document, split it into chunks, embed each chunk and load it into the vector store.\n",
    "raw_documents = TextLoader('state_of_the_union.txt', encoding=\"utf-8\").load()\n",
    "text_splitter = CharacterTextSplitter(chunk_size=1000, chunk_overlap=0)\n",
    "documents = text_splitter.split_documents(raw_documents)"
   ]
  },
  {
   "cell_type": "markdown",
   "id": "99adb334-39c0-456c-9c92-2395eb112a66",
   "metadata": {},
   "source": [
    "# This walkthrough uses the FAISS vector database, which makes use of the Facebook AI Similarity Search (FAISS) library."
   ]
  },
  {
   "cell_type": "code",
   "execution_count": 6,
   "id": "cdb25f01-b810-4ab4-9fec-2a5b293a3d24",
   "metadata": {},
   "outputs": [],
   "source": [
    "from langchain_community.vectorstores import FAISS\n",
    "db = FAISS.from_documents(documents, HuggingFaceEmbeddings())"
   ]
  },
  {
   "cell_type": "markdown",
   "id": "68dccfd4-db9f-4860-aa6d-42a57e643fdb",
   "metadata": {},
   "source": [
    "# Similarity search\n",
    "-All vectorstores expose a similarity_search method. This will take incoming documents, create an embedding of them, and then find all documents with the most similar embedding."
   ]
  },
  {
   "cell_type": "code",
   "execution_count": 7,
   "id": "016d3d77-33a8-47e7-85d9-10b5b29ba9b8",
   "metadata": {},
   "outputs": [
    {
     "name": "stdout",
     "output_type": "stream",
     "text": [
      "We saw the volunteers of the “Cajun Navy,” racing to the rescue with their fishing boats to save people in the aftermath of a devastating hurricane.\n",
      "\n",
      "We saw strangers shielding strangers from a hail of gunfire on the Las Vegas strip.\n",
      "\n",
      "We heard tales of Americans like Coast Guard Petty Officer Ashlee Leppert, who is here tonight in the gallery with Melania.\n"
     ]
    }
   ],
   "source": [
    "query = \"What did the president say about Ketanji Brown Jackson\"\n",
    "docs = db.similarity_search(query)\n",
    "print(docs[0].page_content)"
   ]
  },
  {
   "cell_type": "markdown",
   "id": "489a3d30-79fd-46dd-a613-477e863d0665",
   "metadata": {},
   "source": [
    "# Similarity search by vector\n",
    "-It is also possible to do a search for documents similar to a given embedding vector using similarity_search_by_vector which accepts an embedding vector as a parameter instead of a string."
   ]
  },
  {
   "cell_type": "code",
   "execution_count": 8,
   "id": "8c672941-876a-4c42-8a59-26a0e529eb3c",
   "metadata": {},
   "outputs": [
    {
     "name": "stdout",
     "output_type": "stream",
     "text": [
      "We saw the volunteers of the “Cajun Navy,” racing to the rescue with their fishing boats to save people in the aftermath of a devastating hurricane.\n",
      "\n",
      "We saw strangers shielding strangers from a hail of gunfire on the Las Vegas strip.\n",
      "\n",
      "We heard tales of Americans like Coast Guard Petty Officer Ashlee Leppert, who is here tonight in the gallery with Melania.\n"
     ]
    }
   ],
   "source": [
    "embedding_vector = HuggingFaceEmbeddings().embed_query(query)\n",
    "docs = db.similarity_search_by_vector(embedding_vector)\n",
    "print(docs[0].page_content)"
   ]
  },
  {
   "cell_type": "code",
   "execution_count": null,
   "id": "e5f3b682-7e96-4d93-b66d-26783dca7759",
   "metadata": {},
   "outputs": [],
   "source": []
  }
 ],
 "metadata": {
  "kernelspec": {
   "display_name": "Python 3 (ipykernel)",
   "language": "python",
   "name": "python3"
  },
  "language_info": {
   "codemirror_mode": {
    "name": "ipython",
    "version": 3
   },
   "file_extension": ".py",
   "mimetype": "text/x-python",
   "name": "python",
   "nbconvert_exporter": "python",
   "pygments_lexer": "ipython3",
   "version": "3.11.5"
  }
 },
 "nbformat": 4,
 "nbformat_minor": 5
}
