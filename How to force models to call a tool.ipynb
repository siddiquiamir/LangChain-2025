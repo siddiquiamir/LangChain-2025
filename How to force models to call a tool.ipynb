{
 "cells": [
  {
   "cell_type": "markdown",
   "id": "8058bd57-1a08-40c7-9d7b-57d59a982f53",
   "metadata": {},
   "source": [
    "# How to force models to call a tool"
   ]
  },
  {
   "cell_type": "code",
   "execution_count": 8,
   "id": "5ea40214-7f5f-4c53-b47d-89c67effef83",
   "metadata": {},
   "outputs": [],
   "source": [
    "import os\n",
    "import getpass\n",
    "from langchain_core.tools import tool\n",
    "from langchain.chat_models import init_chat_model"
   ]
  },
  {
   "cell_type": "code",
   "execution_count": 3,
   "id": "94ed5358-f3fa-4828-9891-2fefc26a606e",
   "metadata": {},
   "outputs": [
    {
     "name": "stdin",
     "output_type": "stream",
     "text": [
      "Enter API key ········\n"
     ]
    }
   ],
   "source": [
    "if not os.environ.get(\"GROQ_API_KEY\"):\n",
    "    os.environ[\"GROQ_API_KEY\"] = getpass.getpass(\"Enter API key\")"
   ]
  },
  {
   "cell_type": "code",
   "execution_count": 5,
   "id": "4fb21a81-b334-43cd-ab3c-5f9dac2a3c1a",
   "metadata": {},
   "outputs": [],
   "source": [
    "@tool\n",
    "def add(a: int, b: int) -> int:\n",
    "    \"\"\"Adds a and b.\"\"\"\n",
    "    return a + b\n",
    "\n",
    "\n",
    "@tool\n",
    "def multiply(a: int, b: int) -> int:\n",
    "    \"\"\"Multiplies a and b.\"\"\"\n",
    "    return a * b"
   ]
  },
  {
   "cell_type": "code",
   "execution_count": 6,
   "id": "01cddcdd-54e1-4de0-bb6e-bcd732fa255f",
   "metadata": {},
   "outputs": [],
   "source": [
    "tools = [add, multiply]"
   ]
  },
  {
   "cell_type": "code",
   "execution_count": 9,
   "id": "52fa4320-cecf-4635-9c2e-78848c09bcfa",
   "metadata": {},
   "outputs": [],
   "source": [
    "llm = init_chat_model(\"llama3-8b-8192\", model_provider=\"groq\")"
   ]
  },
  {
   "cell_type": "code",
   "execution_count": 10,
   "id": "ddb7880f-a52c-44d6-afce-8d5da59037e0",
   "metadata": {},
   "outputs": [],
   "source": [
    "llm_forced_to_multiply = llm.bind_tools(tools, tool_choice=\"multiply\")"
   ]
  },
  {
   "cell_type": "code",
   "execution_count": 11,
   "id": "c68d2563-35e3-471d-bb74-480deebeb0f0",
   "metadata": {},
   "outputs": [
    {
     "data": {
      "text/plain": [
       "AIMessage(content='', additional_kwargs={'tool_calls': [{'id': 'call_a5ca', 'function': {'arguments': '{\"a\":2,\"b\":4}', 'name': 'multiply'}, 'type': 'function'}]}, response_metadata={'token_usage': {'completion_tokens': 72, 'prompt_tokens': 1892, 'total_tokens': 1964, 'completion_time': 0.06, 'prompt_time': 0.23908216, 'queue_time': -0.501590989, 'total_time': 0.29908216}, 'model_name': 'llama3-8b-8192', 'system_fingerprint': 'fp_dadc9d6142', 'finish_reason': 'tool_calls', 'logprobs': None}, id='run-3c027668-4521-4c84-9e60-42887c522a38-0', tool_calls=[{'name': 'multiply', 'args': {'a': 2, 'b': 4}, 'id': 'call_a5ca', 'type': 'tool_call'}], usage_metadata={'input_tokens': 1892, 'output_tokens': 72, 'total_tokens': 1964})"
      ]
     },
     "execution_count": 11,
     "metadata": {},
     "output_type": "execute_result"
    }
   ],
   "source": [
    "llm_forced_to_multiply.invoke(\"what is 2 + 4\")"
   ]
  },
  {
   "cell_type": "code",
   "execution_count": 13,
   "id": "ce4544e3-33d2-4ada-9890-219e81e560ba",
   "metadata": {},
   "outputs": [
    {
     "data": {
      "text/plain": [
       "AIMessage(content='', additional_kwargs={'tool_calls': [{'id': 'call_m83h', 'function': {'arguments': '{\"a\":2,\"b\":4}', 'name': 'add'}, 'type': 'function'}]}, response_metadata={'token_usage': {'completion_tokens': 79, 'prompt_tokens': 936, 'total_tokens': 1015, 'completion_time': 0.065833333, 'prompt_time': 0.145963313, 'queue_time': 0.974110807, 'total_time': 0.211796646}, 'model_name': 'llama3-8b-8192', 'system_fingerprint': 'fp_179b0f92c9', 'finish_reason': 'tool_calls', 'logprobs': None}, id='run-5e63684d-4e7e-4377-b767-395df99a7965-0', tool_calls=[{'name': 'add', 'args': {'a': 2, 'b': 4}, 'id': 'call_m83h', 'type': 'tool_call'}], usage_metadata={'input_tokens': 936, 'output_tokens': 79, 'total_tokens': 1015})"
      ]
     },
     "execution_count": 13,
     "metadata": {},
     "output_type": "execute_result"
    }
   ],
   "source": [
    "# We can also just force our tool to select at least one of our tools by passing in the \"any\" (or \"required\" which is OpenAI specific) \n",
    "# keyword to the tool_choice parameter.\n",
    "llm_forced_to_use_tool = llm.bind_tools(tools, tool_choice=\"any\")\n",
    "llm_forced_to_use_tool.invoke(\"what is 2 + 4?\")"
   ]
  },
  {
   "cell_type": "code",
   "execution_count": null,
   "id": "e0b58e45-c6f0-4246-a765-3855b43a6c50",
   "metadata": {},
   "outputs": [],
   "source": []
  }
 ],
 "metadata": {
  "kernelspec": {
   "display_name": "Python 3 (ipykernel)",
   "language": "python",
   "name": "python3"
  },
  "language_info": {
   "codemirror_mode": {
    "name": "ipython",
    "version": 3
   },
   "file_extension": ".py",
   "mimetype": "text/x-python",
   "name": "python",
   "nbconvert_exporter": "python",
   "pygments_lexer": "ipython3",
   "version": "3.11.5"
  }
 },
 "nbformat": 4,
 "nbformat_minor": 5
}
