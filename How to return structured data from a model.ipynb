{
 "cells": [
  {
   "cell_type": "code",
   "execution_count": 2,
   "id": "00263709-4762-4756-bf92-37b1919e06bd",
   "metadata": {},
   "outputs": [],
   "source": [
    "import os\n",
    "import getpass\n",
    "from pydantic import BaseModel\n",
    "from langchain.chat_models import init_chat_model"
   ]
  },
  {
   "cell_type": "code",
   "execution_count": 3,
   "id": "d4558fc3-a9c8-4abc-8512-f7f8fc9790ff",
   "metadata": {},
   "outputs": [
    {
     "name": "stdin",
     "output_type": "stream",
     "text": [
      "Enter API key for Groq:  ········\n"
     ]
    }
   ],
   "source": [
    "if not os.environ.get(\"GROQ_API_KEY\"):\n",
    "  os.environ[\"GROQ_API_KEY\"] = getpass.getpass(\"Enter API key for Groq: \")"
   ]
  },
  {
   "cell_type": "code",
   "execution_count": 5,
   "id": "00d371d0-3842-4baf-92b2-d7cbd1f150dc",
   "metadata": {},
   "outputs": [],
   "source": [
    "llm = init_chat_model(\"llama3-8b-8192\", model_provider=\"groq\")"
   ]
  },
  {
   "cell_type": "code",
   "execution_count": 6,
   "id": "408608c0-56bb-43a5-9c90-d9577be87dbd",
   "metadata": {},
   "outputs": [],
   "source": [
    "json_schema = {\n",
    "    \"title\": \"joke\",\n",
    "    \"description\": \"Joke to tell user.\",\n",
    "    \"type\": \"object\",\n",
    "    \"properties\": {\n",
    "        \"setup\": {\n",
    "            \"type\": \"string\",\n",
    "            \"description\": \"The setup of the joke\",\n",
    "        },\n",
    "        \"punchline\": {\n",
    "            \"type\": \"string\",\n",
    "            \"description\": \"The punchline to the joke\",\n",
    "        },\n",
    "        \"rating\": {\n",
    "            \"type\": \"integer\",\n",
    "            \"description\": \"How funny the joke is, from 1 to 10\",\n",
    "            \"default\": None,\n",
    "        },\n",
    "    },\n",
    "    \"required\": [\"setup\", \"punchline\"],\n",
    "}"
   ]
  },
  {
   "cell_type": "code",
   "execution_count": 7,
   "id": "d2930033-d51e-4533-99f7-b4ac1b36e77a",
   "metadata": {},
   "outputs": [
    {
     "data": {
      "text/plain": [
       "RunnableBinding(bound=ChatGroq(client=<groq.resources.chat.completions.Completions object at 0x000002F024AB89D0>, async_client=<groq.resources.chat.completions.AsyncCompletions object at 0x000002F024ABB450>, model_name='llama3-8b-8192', model_kwargs={}, groq_api_key=SecretStr('**********')), kwargs={'tools': [{'type': 'function', 'function': {'name': 'joke', 'description': 'Joke to tell user.', 'parameters': {'type': 'object', 'properties': {'setup': {'type': 'string', 'description': 'The setup of the joke'}, 'punchline': {'type': 'string', 'description': 'The punchline to the joke'}, 'rating': {'type': 'integer', 'description': 'How funny the joke is, from 1 to 10', 'default': None}}, 'required': ['setup', 'punchline']}}}], 'ls_structured_output_format': {'kwargs': {'method': 'function_calling'}, 'schema': {'type': 'function', 'function': {'name': 'joke', 'description': 'Joke to tell user.', 'parameters': {'type': 'object', 'properties': {'setup': {'type': 'string', 'description': 'The setup of the joke'}, 'punchline': {'type': 'string', 'description': 'The punchline to the joke'}, 'rating': {'type': 'integer', 'description': 'How funny the joke is, from 1 to 10', 'default': None}}, 'required': ['setup', 'punchline']}}}}, 'tool_choice': {'type': 'function', 'function': {'name': 'joke'}}}, config={}, config_factories=[])\n",
       "| JsonOutputKeyToolsParser(first_tool_only=True, key_name='joke')"
      ]
     },
     "execution_count": 7,
     "metadata": {},
     "output_type": "execute_result"
    }
   ],
   "source": [
    "structured_llm = llm.with_structured_output(json_schema)\n",
    "structured_llm"
   ]
  },
  {
   "cell_type": "code",
   "execution_count": 8,
   "id": "c017d0fb-3ab6-487e-8ba6-06d627ca5ce9",
   "metadata": {},
   "outputs": [
    {
     "data": {
      "text/plain": [
       "{'setup': 'Why did the cat join a band?',\n",
       " 'punchline': 'Because it wanted to be the purr-cussionist!',\n",
       " 'rating': 8}"
      ]
     },
     "execution_count": 8,
     "metadata": {},
     "output_type": "execute_result"
    }
   ],
   "source": [
    "structured_llm.invoke(\"Tell me a joke about cats\")"
   ]
  },
  {
   "cell_type": "code",
   "execution_count": 9,
   "id": "f117e2be-d9fc-4811-af9a-36742d0fd04a",
   "metadata": {},
   "outputs": [],
   "source": [
    "class PersonInfo(BaseModel):\n",
    "    name: str\n",
    "    age: int\n",
    "    is_verified: bool"
   ]
  },
  {
   "cell_type": "code",
   "execution_count": 10,
   "id": "0dd6c233-9512-43ad-8ee8-835f7e686b53",
   "metadata": {},
   "outputs": [
    {
     "data": {
      "text/plain": [
       "RunnableBinding(bound=ChatGroq(client=<groq.resources.chat.completions.Completions object at 0x000002F024AB89D0>, async_client=<groq.resources.chat.completions.AsyncCompletions object at 0x000002F024ABB450>, model_name='llama3-8b-8192', model_kwargs={}, groq_api_key=SecretStr('**********')), kwargs={'tools': [{'type': 'function', 'function': {'name': 'PersonInfo', 'description': '', 'parameters': {'properties': {'name': {'type': 'string'}, 'age': {'type': 'integer'}, 'is_verified': {'type': 'boolean'}}, 'required': ['name', 'age', 'is_verified'], 'type': 'object'}}}], 'ls_structured_output_format': {'kwargs': {'method': 'function_calling'}, 'schema': {'type': 'function', 'function': {'name': 'PersonInfo', 'description': '', 'parameters': {'properties': {'name': {'type': 'string'}, 'age': {'type': 'integer'}, 'is_verified': {'type': 'boolean'}}, 'required': ['name', 'age', 'is_verified'], 'type': 'object'}}}}, 'tool_choice': {'type': 'function', 'function': {'name': 'PersonInfo'}}}, config={}, config_factories=[])\n",
       "| PydanticToolsParser(first_tool_only=True, tools=[<class '__main__.PersonInfo'>])"
      ]
     },
     "execution_count": 10,
     "metadata": {},
     "output_type": "execute_result"
    }
   ],
   "source": [
    "structured_llm = llm.with_structured_output(PersonInfo)\n",
    "structured_llm"
   ]
  },
  {
   "cell_type": "code",
   "execution_count": 11,
   "id": "454bd4c1-aaa4-4327-8083-c2e5dcf1e90e",
   "metadata": {},
   "outputs": [
    {
     "data": {
      "text/plain": [
       "PersonInfo(name='Alice', age=28, is_verified=True)"
      ]
     },
     "execution_count": 11,
     "metadata": {},
     "output_type": "execute_result"
    }
   ],
   "source": [
    "structured_llm.invoke(\"Her name is Alice, she is 28 years old, and she is verified.\")"
   ]
  },
  {
   "cell_type": "code",
   "execution_count": null,
   "id": "d4e3f196-3228-4557-b467-d2733b8c303a",
   "metadata": {},
   "outputs": [],
   "source": []
  }
 ],
 "metadata": {
  "kernelspec": {
   "display_name": "Python 3 (ipykernel)",
   "language": "python",
   "name": "python3"
  },
  "language_info": {
   "codemirror_mode": {
    "name": "ipython",
    "version": 3
   },
   "file_extension": ".py",
   "mimetype": "text/x-python",
   "name": "python",
   "nbconvert_exporter": "python",
   "pygments_lexer": "ipython3",
   "version": "3.11.5"
  }
 },
 "nbformat": 4,
 "nbformat_minor": 5
}
