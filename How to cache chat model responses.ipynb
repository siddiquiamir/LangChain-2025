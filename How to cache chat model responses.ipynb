{
 "cells": [
  {
   "cell_type": "markdown",
   "id": "2d918168-7f70-4ab2-8a5e-5de9739caaa2",
   "metadata": {},
   "source": [
    "# How to cache chat model responses"
   ]
  },
  {
   "cell_type": "markdown",
   "id": "970c89cd-0068-4446-bcdd-1656335142d2",
   "metadata": {},
   "source": [
    "### Caching chat model responses offers two primary benefits:\n",
    "\n",
    "1. Cost Efficiency: Reduces the number of API calls to LLM providers, which can lower expenses, especially during development phases.\n",
    "\n",
    "2. Performance Enhancement: Speeds up application response times by avoiding redundant API requests.\n",
    "\n",
    "- This is particularly advantageous when the same prompts are used repeatedly, such as in testing scenarios or applications with frequently asked questions."
   ]
  },
  {
   "cell_type": "code",
   "execution_count": 3,
   "id": "4991abb7-3067-4e8d-b9b2-79522e844ca3",
   "metadata": {},
   "outputs": [],
   "source": [
    "import getpass\n",
    "import os\n",
    "from langchain.chat_models import init_chat_model"
   ]
  },
  {
   "cell_type": "code",
   "execution_count": 4,
   "id": "0dad93b7-d3e2-4f3d-8bf2-4030479d20f0",
   "metadata": {},
   "outputs": [
    {
     "name": "stdin",
     "output_type": "stream",
     "text": [
      "Enter API key for Groq:  ········\n"
     ]
    }
   ],
   "source": [
    "if not os.environ.get(\"GROQ_API_KEY\"):\n",
    "  os.environ[\"GROQ_API_KEY\"] = getpass.getpass(\"Enter API key for Groq: \")"
   ]
  },
  {
   "cell_type": "code",
   "execution_count": 5,
   "id": "b1ad21a6-400d-4512-ad3d-23f0f420ab4e",
   "metadata": {},
   "outputs": [],
   "source": [
    "llm = init_chat_model(\"llama3-8b-8192\", model_provider=\"groq\")"
   ]
  },
  {
   "cell_type": "code",
   "execution_count": 6,
   "id": "b3852ccb-8e76-4070-82d7-d8765076f2b7",
   "metadata": {},
   "outputs": [],
   "source": [
    "from langchain_core.globals import set_llm_cache"
   ]
  },
  {
   "cell_type": "code",
   "execution_count": 7,
   "id": "6119831f-8132-44b7-b66e-19d691c659af",
   "metadata": {},
   "outputs": [
    {
     "name": "stdout",
     "output_type": "stream",
     "text": [
      "CPU times: total: 31.2 ms\n",
      "Wall time: 1.51 s\n"
     ]
    },
    {
     "data": {
      "text/plain": [
       "AIMessage(content=\"Here's one:\\n\\nWhy couldn't the bicycle stand up by itself?\\n\\n(Wait for it...)\\n\\nBecause it was two-tired!\\n\\nHope that made you laugh!\", additional_kwargs={}, response_metadata={'token_usage': {'completion_tokens': 33, 'prompt_tokens': 14, 'total_tokens': 47, 'completion_time': 0.0275, 'prompt_time': 0.002261, 'queue_time': 0.25006279, 'total_time': 0.029761}, 'model_name': 'llama3-8b-8192', 'system_fingerprint': 'fp_179b0f92c9', 'finish_reason': 'stop', 'logprobs': None}, id='run-ee23eb90-ad9b-460b-951b-12782cae4b4e-0', usage_metadata={'input_tokens': 14, 'output_tokens': 33, 'total_tokens': 47})"
      ]
     },
     "execution_count": 7,
     "metadata": {},
     "output_type": "execute_result"
    }
   ],
   "source": [
    "%%time\n",
    "from langchain_core.caches import InMemoryCache\n",
    "\n",
    "set_llm_cache(InMemoryCache())\n",
    "\n",
    "# The first time, it is not yet in cache, so it should take longer\n",
    "llm.invoke(\"Tell me a joke\")"
   ]
  },
  {
   "cell_type": "code",
   "execution_count": 8,
   "id": "e4e3f671-971b-4c57-812a-02281f95448b",
   "metadata": {},
   "outputs": [
    {
     "name": "stdout",
     "output_type": "stream",
     "text": [
      "CPU times: total: 0 ns\n",
      "Wall time: 0 ns\n"
     ]
    },
    {
     "data": {
      "text/plain": [
       "AIMessage(content=\"Here's one:\\n\\nWhy couldn't the bicycle stand up by itself?\\n\\n(Wait for it...)\\n\\nBecause it was two-tired!\\n\\nHope that made you laugh!\", additional_kwargs={}, response_metadata={'token_usage': {'completion_tokens': 33, 'prompt_tokens': 14, 'total_tokens': 47, 'completion_time': 0.0275, 'prompt_time': 0.002261, 'queue_time': 0.25006279, 'total_time': 0.029761}, 'model_name': 'llama3-8b-8192', 'system_fingerprint': 'fp_179b0f92c9', 'finish_reason': 'stop', 'logprobs': None}, id='run-ee23eb90-ad9b-460b-951b-12782cae4b4e-0', usage_metadata={'input_tokens': 14, 'output_tokens': 33, 'total_tokens': 47})"
      ]
     },
     "execution_count": 8,
     "metadata": {},
     "output_type": "execute_result"
    }
   ],
   "source": [
    "%%time\n",
    "# The second time it is, so it goes faster\n",
    "llm.invoke(\"Tell me a joke\")"
   ]
  },
  {
   "cell_type": "code",
   "execution_count": null,
   "id": "e0eea65f-aec3-47d2-acfd-d6a9062b5158",
   "metadata": {},
   "outputs": [],
   "source": []
  }
 ],
 "metadata": {
  "kernelspec": {
   "display_name": "Python 3 (ipykernel)",
   "language": "python",
   "name": "python3"
  },
  "language_info": {
   "codemirror_mode": {
    "name": "ipython",
    "version": 3
   },
   "file_extension": ".py",
   "mimetype": "text/x-python",
   "name": "python",
   "nbconvert_exporter": "python",
   "pygments_lexer": "ipython3",
   "version": "3.11.5"
  }
 },
 "nbformat": 4,
 "nbformat_minor": 5
}
